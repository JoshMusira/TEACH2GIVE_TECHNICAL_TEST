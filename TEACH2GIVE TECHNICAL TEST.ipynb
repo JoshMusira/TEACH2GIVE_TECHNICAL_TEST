{
 "cells": [
  {
   "cell_type": "code",
   "execution_count": null,
   "id": "7c2a77e2",
   "metadata": {},
   "outputs": [],
   "source": []
  },
  {
   "cell_type": "markdown",
   "id": "e38b8db8",
   "metadata": {},
   "source": [
    "1. Write a program that prints the numbers from 1 to 100. For multiples of 3, print \"Fizz\"; for \n",
    "multiples of 5, print \"Buzz\"; and for numbers that are multiples of both 3 and 5, print \n",
    "\"FizzBuzz\"."
   ]
  },
  {
   "cell_type": "code",
   "execution_count": 2,
   "id": "62a0b8a9",
   "metadata": {},
   "outputs": [
    {
     "name": "stdout",
     "output_type": "stream",
     "text": [
      "1\n",
      "2\n",
      "Fizz\n",
      "4\n",
      "Buzz\n",
      "Fizz\n",
      "7\n",
      "8\n",
      "Fizz\n",
      "Buzz\n",
      "11\n",
      "Fizz\n",
      "13\n",
      "14\n",
      "FizzBuzz\n",
      "16\n",
      "17\n",
      "Fizz\n",
      "19\n",
      "Buzz\n",
      "Fizz\n",
      "22\n",
      "23\n",
      "Fizz\n",
      "Buzz\n",
      "26\n",
      "Fizz\n",
      "28\n",
      "29\n",
      "FizzBuzz\n",
      "31\n",
      "32\n",
      "Fizz\n",
      "34\n",
      "Buzz\n",
      "Fizz\n",
      "37\n",
      "38\n",
      "Fizz\n",
      "Buzz\n",
      "41\n",
      "Fizz\n",
      "43\n",
      "44\n",
      "FizzBuzz\n",
      "46\n",
      "47\n",
      "Fizz\n",
      "49\n",
      "Buzz\n",
      "Fizz\n",
      "52\n",
      "53\n",
      "Fizz\n",
      "Buzz\n",
      "56\n",
      "Fizz\n",
      "58\n",
      "59\n",
      "FizzBuzz\n",
      "61\n",
      "62\n",
      "Fizz\n",
      "64\n",
      "Buzz\n",
      "Fizz\n",
      "67\n",
      "68\n",
      "Fizz\n",
      "Buzz\n",
      "71\n",
      "Fizz\n",
      "73\n",
      "74\n",
      "FizzBuzz\n",
      "76\n",
      "77\n",
      "Fizz\n",
      "79\n",
      "Buzz\n",
      "Fizz\n",
      "82\n",
      "83\n",
      "Fizz\n",
      "Buzz\n",
      "86\n",
      "Fizz\n",
      "88\n",
      "89\n",
      "FizzBuzz\n",
      "91\n",
      "92\n",
      "Fizz\n",
      "94\n",
      "Buzz\n",
      "Fizz\n",
      "97\n",
      "98\n",
      "Fizz\n",
      "Buzz\n"
     ]
    }
   ],
   "source": [
    "for number in range(1, 101):\n",
    "    if number % 3 == 0 and number % 5 == 0:\n",
    "        print(\"FizzBuzz\")\n",
    "    elif number % 3 == 0:\n",
    "        print(\"Fizz\")\n",
    "    elif number % 5 == 0:\n",
    "        print(\"Buzz\")\n",
    "    else:\n",
    "        print(number)"
   ]
  },
  {
   "cell_type": "markdown",
   "id": "29078bfb",
   "metadata": {},
   "source": [
    "2. Write a program to generate the Fibonacci sequence up to 100."
   ]
  },
  {
   "cell_type": "code",
   "execution_count": 3,
   "id": "e7adc71e",
   "metadata": {},
   "outputs": [
    {
     "name": "stdout",
     "output_type": "stream",
     "text": [
      "0\n",
      "1\n",
      "1\n",
      "2\n",
      "3\n",
      "5\n",
      "8\n",
      "13\n",
      "21\n",
      "34\n",
      "55\n",
      "89\n"
     ]
    }
   ],
   "source": [
    "# Initialize the first two numbers in the sequence\n",
    "a, b = 0, 1\n",
    "\n",
    "# Generate and print the Fibonacci sequence up to 100\n",
    "while a <= 100:\n",
    "    print(a)\n",
    "    a, b = b, a + b"
   ]
  },
  {
   "cell_type": "markdown",
   "id": "cc2042a3",
   "metadata": {},
   "source": [
    "3. Write a program that takes an integer as input and returns true if the input is a power of two.\n",
    "Examples: \n"
   ]
  },
  {
   "cell_type": "code",
   "execution_count": 4,
   "id": "079237c6",
   "metadata": {},
   "outputs": [],
   "source": [
    "def check_power_of_two(n):\n",
    "    if n <= 0:\n",
    "        return False\n",
    "    while n > 1:\n",
    "        if n % 2 != 0:\n",
    "            return False\n",
    "        n = n // 2\n",
    "    return True\n",
    "\n"
   ]
  },
  {
   "cell_type": "code",
   "execution_count": 5,
   "id": "149f17ca",
   "metadata": {},
   "outputs": [
    {
     "name": "stdout",
     "output_type": "stream",
     "text": [
      "True\n"
     ]
    }
   ],
   "source": [
    "\n",
    "print(check_power_of_two(8))  \n"
   ]
  },
  {
   "cell_type": "code",
   "execution_count": 6,
   "id": "71e657c9",
   "metadata": {},
   "outputs": [
    {
     "name": "stdout",
     "output_type": "stream",
     "text": [
      "False\n"
     ]
    }
   ],
   "source": [
    "print(check_power_of_two(6))  "
   ]
  },
  {
   "cell_type": "markdown",
   "id": "bf3cb228",
   "metadata": {},
   "source": [
    "4. Write a program that accepts a string as input, capitalizes the first letter of each word in the \n",
    "string, and then returns the result string."
   ]
  },
  {
   "cell_type": "code",
   "execution_count": null,
   "id": "6f13140c",
   "metadata": {},
   "outputs": [],
   "source": [
    "def capitalize_first_letter(string):\n",
    "    words = string.split()  # Split the string into individual words\n",
    "    capitalized_words = [word.capitalize() for word in words]  # Capitalize the first letter of each word\n",
    "    return ' '.join(capitalized_words)  # Join the capitalized words back into a string\n",
    "\n",
    "# Example usage\n",
    "input_string = \"hello world, how are you?\"\n",
    "result = capitalize_first_letter(input_string)\n",
    "print(result)  # Output: \"Hello World, How Are You?\""
   ]
  },
  {
   "cell_type": "code",
   "execution_count": 9,
   "id": "c1844a73",
   "metadata": {},
   "outputs": [],
   "source": [
    "def capitalize_first_letters(string):\n",
    "    return string.title()\n",
    "\n"
   ]
  },
  {
   "cell_type": "code",
   "execution_count": 10,
   "id": "4c3d6cf8",
   "metadata": {},
   "outputs": [
    {
     "name": "stdout",
     "output_type": "stream",
     "text": [
      "Teach2Give Technical Test\n"
     ]
    }
   ],
   "source": [
    "\n",
    "string = \"teach2give technical test\"\n",
    "\n",
    "result = capitalize_first_letters(string)\n",
    "print(result)"
   ]
  },
  {
   "cell_type": "markdown",
   "id": "98e93e97",
   "metadata": {},
   "source": [
    "5.  Write a program that takes an integer as input and returns an integer with reversed digit \n",
    "ordering."
   ]
  },
  {
   "cell_type": "code",
   "execution_count": 12,
   "id": "cc888985",
   "metadata": {},
   "outputs": [],
   "source": [
    "def reverse_integer(intNo):\n",
    "    if intNo >= 0:\n",
    "        return int(str(intNo)[::-1])\n",
    "    else:\n",
    "        return -1 * int(str(abs(intNo))[::-1])\n",
    "\n"
   ]
  },
  {
   "cell_type": "code",
   "execution_count": 13,
   "id": "1ab68ef3",
   "metadata": {},
   "outputs": [
    {
     "name": "stdout",
     "output_type": "stream",
     "text": [
      "5\n",
      "-65\n"
     ]
    }
   ],
   "source": [
    "\n",
    "num1 = 500\n",
    "num2 = -56\n",
    "result1 = reverse_integer(num1)\n",
    "result2 = reverse_integer(num2)\n",
    "print(result1) \n",
    "print(result2) "
   ]
  },
  {
   "cell_type": "markdown",
   "id": "fcc0958f",
   "metadata": {},
   "source": [
    "6. Write a program that counts the number of vowels in a sentence.\n"
   ]
  },
  {
   "cell_type": "code",
   "execution_count": 14,
   "id": "22e36843",
   "metadata": {},
   "outputs": [],
   "source": [
    "def count_vowels(sentence):\n",
    "    vowels = \"aeiouAEIOU\"\n",
    "    count = 0\n",
    "    for char in sentence:\n",
    "        if char in vowels:\n",
    "            count += 1\n",
    "    return count\n",
    "\n"
   ]
  },
  {
   "cell_type": "code",
   "execution_count": 15,
   "id": "30081bfd",
   "metadata": {},
   "outputs": [
    {
     "name": "stdout",
     "output_type": "stream",
     "text": [
      "9\n"
     ]
    }
   ],
   "source": [
    "\n",
    "sentence = \"I have just finished the test. \"\n",
    "result = count_vowels(sentence)\n",
    "print(result)  "
   ]
  },
  {
   "cell_type": "code",
   "execution_count": null,
   "id": "a5d2776b",
   "metadata": {},
   "outputs": [],
   "source": []
  }
 ],
 "metadata": {
  "kernelspec": {
   "display_name": "Python 3 (ipykernel)",
   "language": "python",
   "name": "python3"
  },
  "language_info": {
   "codemirror_mode": {
    "name": "ipython",
    "version": 3
   },
   "file_extension": ".py",
   "mimetype": "text/x-python",
   "name": "python",
   "nbconvert_exporter": "python",
   "pygments_lexer": "ipython3",
   "version": "3.11.5"
  }
 },
 "nbformat": 4,
 "nbformat_minor": 5
}
